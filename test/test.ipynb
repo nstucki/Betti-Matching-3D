{
 "cells": [
  {
   "cell_type": "code",
   "execution_count": 27,
   "metadata": {},
   "outputs": [
    {
     "name": "stdout",
     "output_type": "stream",
     "text": [
      "The autoreload extension is already loaded. To reload it, use:\n",
      "  %reload_ext autoreload\n"
     ]
    }
   ],
   "source": [
    "import numpy as np\n",
    "import sys\n",
    "sys.path.append('../build')\n",
    "import betti_matching as bm\n",
    "\n",
    "%load_ext autoreload\n",
    "%autoreload 2"
   ]
  },
  {
   "cell_type": "code",
   "execution_count": 4,
   "metadata": {},
   "outputs": [],
   "source": [
    "input0 = np.array([[[ 1, 1, 1, 1, 1],\n",
    "                    [ 1, 1, 1, 1, 1],\n",
    "                    [ 1, 1, 1, 1, 1],\n",
    "                    [ 1, 4, 1, 5, 1],\n",
    "                    [ 1, 1, 1, 1, 1]],\n",
    "                   [[21,21,21,21,21],\n",
    "                    [21,22,21,23,21],\n",
    "                    [21,21,21,21,21],\n",
    "                    [21,24,21,25,21],\n",
    "                    [21,21,21,21,21]],\n",
    "                   [[11,11,11,11,11],\n",
    "                    [11,12,11,13,11],\n",
    "                    [11,11,11,11,11],\n",
    "                    [11,14,11,15,11],\n",
    "                    [11,11,11,11,11]]], dtype=float)\n",
    "\n",
    "input1 = np.array([[[11,11,11,11,11],\n",
    "                    [11,15,11,14,11],\n",
    "                    [11,11,11,11,11],\n",
    "                    [11,13,11,12,11],\n",
    "                    [11,11,11,11,11]],\n",
    "                   [[21,21,21,21,21],\n",
    "                    [21,25,21,24,21],\n",
    "                    [21,21,21,21,21],\n",
    "                    [21,23,21,22,21],\n",
    "                    [21,21,21,21,21]],\n",
    "                   [[ 1, 1, 1, 1, 1],\n",
    "                    [ 1, 5, 1, 4, 1],\n",
    "                    [ 1, 1, 1, 1, 1],\n",
    "                    [ 1, 1, 1, 1, 1],\n",
    "                    [ 1, 1, 1, 1, 1]]], dtype=float)"
   ]
  },
  {
   "cell_type": "code",
   "execution_count": 14,
   "metadata": {},
   "outputs": [],
   "source": [
    "input0 = np.array([[[0.01,0.01,0.01,0.01,0.01],\n",
    "                    [0.01,0.01,0.01,0.01,0.01],\n",
    "                    [0.01,0.01,0.01,0.01,0.01],\n",
    "                    [0.01,0.04,0.01,0.05,0.01],\n",
    "                    [0.01,0.01,0.01,0.01,0.01]],\n",
    "                   [[0.21,0.21,0.21,0.21,0.21],\n",
    "                    [0.21,0.22,0.21,0.21,0.21],\n",
    "                    [0.21,0.21,0.21,0.21,0.21],\n",
    "                    [0.21,0.24,0.21,0.25,0.21],\n",
    "                    [0.21,0.21,0.21,0.21,0.21]],\n",
    "                   [[0.11,0.11,0.11,0.11,0.11],\n",
    "                    [0.11,0.12,0.11,0.13,0.11],\n",
    "                    [0.11,0.11,0.11,0.11,0.11],\n",
    "                    [0.11,0.14,0.11,0.15,0.11],\n",
    "                    [0.11,0.11,0.11,0.11,0.11]]], dtype=float)\n",
    "\n",
    "input1 = np.array([[[0.11,0.11,0.11,0.11,0.11],\n",
    "                    [0.11,0.15,0.11,0.14,0.11],\n",
    "                    [0.11,0.11,0.11,0.11,0.11],\n",
    "                    [0.11,0.13,0.11,0.12,0.11],\n",
    "                    [0.11,0.11,0.11,0.11,0.11]],\n",
    "                   [[0.21,0.21,0.21,0.21,0.21],\n",
    "                    [0.21,0.25,0.21,0.24,0.21],\n",
    "                    [0.21,0.21,0.21,0.21,0.21],\n",
    "                    [0.21,0.23,0.21,0.21,0.21],\n",
    "                    [0.21,0.21,0.21,0.21,0.21]],\n",
    "                   [[0.01,0.01,0.01,0.01,0.01],\n",
    "                    [0.01,0.05,0.01,0.04,0.01],\n",
    "                    [0.01,0.01,0.01,0.01,0.01],\n",
    "                    [0.01,0.01,0.01,0.01,0.01],\n",
    "                    [0.01,0.01,0.01,0.01,0.01]]], dtype=float)"
   ]
  },
  {
   "cell_type": "code",
   "execution_count": 2,
   "metadata": {},
   "outputs": [],
   "source": [
    "random0 = np.random.rand(100, 100).astype(float)\n",
    "random1 = np.random.rand(100, 100).astype(float)"
   ]
  },
  {
   "cell_type": "code",
   "execution_count": 20,
   "metadata": {},
   "outputs": [],
   "source": [
    "input0_2D = np.array([[0,0,1,0,0],\n",
    "                      [0,2,1,3,0],\n",
    "                      [0,0,1,0,0],\n",
    "                      [0,4,1,5,0],\n",
    "                      [0,0,1,0,0]], dtype=float)\n",
    "\n",
    "input1_2D = np.array([[0,0,1,0,0],\n",
    "                      [0,5,1,4,0],\n",
    "                      [0,0,1,0,0],\n",
    "                      [0,3,1,2,0],\n",
    "                      [0,0,1,0,0]], dtype=float)"
   ]
  },
  {
   "cell_type": "code",
   "execution_count": 22,
   "metadata": {},
   "outputs": [],
   "source": [
    "input0_1D = np.array([0,0,1,0,0,2,0,5,0], dtype=float)\n",
    "input1_1D = np.array([0,0,1,0,0,3,1,4,0], dtype=float)"
   ]
  },
  {
   "cell_type": "code",
   "execution_count": 23,
   "metadata": {},
   "outputs": [],
   "source": [
    "input0_3D = np.array([[[[ 1, 1, 1, 1, 1],\n",
    "                        [ 1, 1, 1, 1, 1],\n",
    "                        [ 1, 1, 1, 1, 1],\n",
    "                        [ 1, 4, 1, 5, 1],\n",
    "                        [ 1, 1, 1, 1, 1]],\n",
    "                       [[21,21,21,21,21],\n",
    "                        [21,22,21,23,21],\n",
    "                        [21,21,21,21,21],\n",
    "                        [21,24,21,25,21],\n",
    "                        [21,21,21,21,21]],\n",
    "                       [[11,11,11,11,11],\n",
    "                        [11,12,11,13,11],\n",
    "                        [11,11,11,11,11],\n",
    "                        [11,14,11,15,11],\n",
    "                        [11,11,11,11,11]]]], dtype=float)\n",
    "\n",
    "input1_3D = np.array([[[[11,11,11,11,11],\n",
    "                        [11,15,11,14,11],\n",
    "                        [11,11,11,11,11],\n",
    "                        [11,13,11,12,11],\n",
    "                        [11,11,11,11,11]],\n",
    "                       [[21,21,21,21,21],\n",
    "                        [21,25,21,24,21],\n",
    "                        [21,21,21,21,21],\n",
    "                        [21,23,21,22,21],\n",
    "                        [21,21,21,21,21]],\n",
    "                       [[ 1, 1, 1, 1, 1],\n",
    "                        [ 1, 5, 1, 4, 1],\n",
    "                        [ 1, 1, 1, 1, 1],\n",
    "                        [ 1, 1, 1, 1, 1],\n",
    "                        [ 1, 1, 1, 1, 1]]]], dtype=float)"
   ]
  },
  {
   "cell_type": "code",
   "execution_count": 16,
   "metadata": {},
   "outputs": [],
   "source": [
    "random0_3D = np.random.rand(40, 40, 40).astype(float)\n",
    "random1_3D = np.random.rand(40, 40, 40).astype(float)"
   ]
  },
  {
   "cell_type": "code",
   "execution_count": 26,
   "metadata": {},
   "outputs": [
    {
     "name": "stdout",
     "output_type": "stream",
     "text": [
      "dimension 3:"
     ]
    },
    {
     "ename": "ValueError",
     "evalue": "vector",
     "output_type": "error",
     "traceback": [
      "\u001b[0;31m---------------------------------------------------------------------------\u001b[0m",
      "\u001b[0;31mValueError\u001b[0m                                Traceback (most recent call last)",
      "\u001b[1;32m/Users/nicostucki/Documents/repositories/projects/Betti-matching-3D/test/test.ipynb Cell 9\u001b[0m line \u001b[0;36m6\n\u001b[1;32m      <a href='vscode-notebook-cell:/Users/nicostucki/Documents/repositories/projects/Betti-matching-3D/test/test.ipynb#X23sZmlsZQ%3D%3D?line=3'>4</a>\u001b[0m config \u001b[39m=\u001b[39m bm\u001b[39m.\u001b[39mConfig()\n\u001b[1;32m      <a href='vscode-notebook-cell:/Users/nicostucki/Documents/repositories/projects/Betti-matching-3D/test/test.ipynb#X23sZmlsZQ%3D%3D?line=4'>5</a>\u001b[0m comparison \u001b[39m=\u001b[39m np\u001b[39m.\u001b[39mminimum(input0, input1)\n\u001b[0;32m----> <a href='vscode-notebook-cell:/Users/nicostucki/Documents/repositories/projects/Betti-matching-3D/test/test.ipynb#X23sZmlsZQ%3D%3D?line=5'>6</a>\u001b[0m bm\u001b[39m.\u001b[39;49mcompute_matching_with_voxels(input0, input1, comparison, config)\n",
      "\u001b[0;31mValueError\u001b[0m: vector"
     ]
    },
    {
     "name": "stdout",
     "output_type": "stream",
     "text": [
      "\n",
      "input & image 0: enumeration 0 ms, barcodes not computed\n",
      "input & image 1: enumeration 0 ms, barcodes not computed\n",
      "comparison & matching: enumeration 0 ms, barcode & matching not computed\n",
      "total: 0 ms\n",
      "\n",
      "dimension 2:\n",
      "input 0: barcode 1 ms with 28 emergent pairs, enumeration 0 ms\n",
      "input 1: barcode 1 ms with 28 emergent pairs, enumeration 0 ms\n",
      "comparison: barcode 1 ms with 28 emergent pairs, enumeration 0 ms\n",
      "image 0: barcode 1 ms with 28 emergent pairs\n",
      "image 1: barcode 1 ms with 28 emergent pairs\n",
      "matching: 0 ms\n",
      "\n",
      "dimension 1:\n",
      "input 0: barcode 0 ms with 90 emergent pairs, enumeration 0 ms\n",
      "input 1: barcode 0 ms with 90 emergent pairs, enumeration 0 ms\n",
      "comparison: barcode 0 ms with 92 emergent pairs, enumeration 0 ms\n",
      "image 0: barcode 0 ms with 90 emergent pairs\n",
      "image 1: barcode 0 ms with 90 emergent pairs\n",
      "matching: 0 ms\n",
      "total: 13 ms\n",
      "\n",
      "dimension 0:\n",
      "input 0: barcode 0 ms\n",
      "input 1: barcode 0 ms\n",
      "comparison & image 0 & image 1 & matching: barcodes & matching 0 ms\n",
      "total: 0 ms\n",
      "\n",
      "computing voxels ... 0 ms\n",
      "\n"
     ]
    }
   ],
   "source": [
    "input0 = input0_3D\n",
    "input1 = input1_3D\n",
    "\n",
    "config = bm.Config()\n",
    "comparison = np.minimum(input0, input1)\n",
    "bm.compute_matching_with_voxels(input0, input1, comparison, config)"
   ]
  },
  {
   "cell_type": "code",
   "execution_count": null,
   "metadata": {},
   "outputs": [],
   "source": []
  }
 ],
 "metadata": {
  "kernelspec": {
   "display_name": "env",
   "language": "python",
   "name": "python3"
  },
  "language_info": {
   "codemirror_mode": {
    "name": "ipython",
    "version": 3
   },
   "file_extension": ".py",
   "mimetype": "text/x-python",
   "name": "python",
   "nbconvert_exporter": "python",
   "pygments_lexer": "ipython3",
   "version": "3.11.5"
  },
  "orig_nbformat": 4
 },
 "nbformat": 4,
 "nbformat_minor": 2
}
