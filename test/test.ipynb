{
 "cells": [
  {
   "cell_type": "code",
   "execution_count": 2,
   "metadata": {},
   "outputs": [],
   "source": [
    "import numpy as np\n",
    "\n",
    "%load_ext autoreload\n",
    "%autoreload 2\n",
    "\n",
    "%matplotlib inline"
   ]
  },
  {
   "cell_type": "code",
   "execution_count": 3,
   "metadata": {},
   "outputs": [],
   "source": [
    "random0 = np.random.rand(40,40,40)\n",
    "random1 = np.random.rand(40,40,40)\n",
    "\n",
    "np.save(\"random0.npy\", random0)\n",
    "np.save(\"random1.npy\", random1)\n",
    "\n",
    "test"
   ]
  },
  {
   "cell_type": "code",
   "execution_count": 43,
   "metadata": {},
   "outputs": [],
   "source": [
    "input0 = np.array([[[1,1,1,1,1],\n",
    "                    [1,2,1,2,1],\n",
    "                    [1,1,1,1,1],\n",
    "                    [1,2,1,2,1],\n",
    "                    [1,1,1,1,1]],\n",
    "                   [[1,1,1,1,1],\n",
    "                    [1,3,3,3,1],\n",
    "                    [1,3,3,3,1],\n",
    "                    [1,3,3,3,1],\n",
    "                    [1,1,1,1,1]],\n",
    "                   [[1,1,1,1,1],\n",
    "                    [1,2,1,2,1],\n",
    "                    [1,1,1,1,1],\n",
    "                    [1,2,1,2,1],\n",
    "                    [1,1,1,1,1]]], dtype=float)\n",
    "\n",
    "input1 = np.array([[[1,1,1,1,1],\n",
    "                    [1,2,1,2,1],\n",
    "                    [1,1,1,1,1],\n",
    "                    [1,2,1,2,1],\n",
    "                    [1,1,1,1,1]],\n",
    "                   [[1,1,1,1,1],\n",
    "                    [1,3,3,3,1],\n",
    "                    [1,3,3,3,1],\n",
    "                    [1,3,3,3,1],\n",
    "                    [1,1,1,1,1]],\n",
    "                   [[1,1,1,1,1],\n",
    "                    [1,2,1,2,1],\n",
    "                    [1,1,1,1,1],\n",
    "                    [1,2,1,2,1],\n",
    "                    [1,1,1,1,1]]], dtype=float)\n",
    "\n",
    "np.save(\"input0.npy\", input0)\n",
    "np.save(\"input1.npy\", input1)"
   ]
  },
  {
   "cell_type": "code",
   "execution_count": 5,
   "metadata": {},
   "outputs": [],
   "source": [
    "input0_2D = np.array([[1,1,1,1,1],\n",
    "                      [1,2,1,2,1],\n",
    "                      [1,1,1,1,1],\n",
    "                      [1,2,1,2,1],\n",
    "                      [1,1,1,1,1]], dtype=float)\n",
    "\n",
    "input1_2D = np.array([[1,1,1,1,1],\n",
    "                      [1,2,2,2,1],\n",
    "                      [1,2,1,2,1],\n",
    "                      [1,2,2,2,1],\n",
    "                      [1,1,1,1,1]], dtype=float)\n",
    "\n",
    "np.save(\"input0_2D.npy\", input0_2D)\n",
    "np.save(\"input1_2D.npy\", input1_2D)"
   ]
  },
  {
   "cell_type": "code",
   "execution_count": null,
   "metadata": {},
   "outputs": [],
   "source": []
  }
 ],
 "metadata": {
  "kernelspec": {
   "display_name": "BettiMatching-3D",
   "language": "python",
   "name": "bettimatching-3d"
  },
  "language_info": {
   "codemirror_mode": {
    "name": "ipython",
    "version": 3
   },
   "file_extension": ".py",
   "mimetype": "text/x-python",
   "name": "python",
   "nbconvert_exporter": "python",
   "pygments_lexer": "ipython3",
   "version": "3.9.12"
  },
  "orig_nbformat": 4,
  "vscode": {
   "interpreter": {
    "hash": "31f2aee4e71d21fbe5cf8b01ff0e069b9275f58929596ceb00d14d90e3e16cd6"
   }
  }
 },
 "nbformat": 4,
 "nbformat_minor": 2
}
