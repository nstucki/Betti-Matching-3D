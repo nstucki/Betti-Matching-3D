{
 "cells": [
  {
   "cell_type": "code",
   "execution_count": 2,
   "metadata": {},
   "outputs": [],
   "source": [
    "import numpy as np\n",
    "\n",
    "%load_ext autoreload\n",
    "%autoreload 2\n",
    "\n",
    "%matplotlib inline"
   ]
  },
  {
   "cell_type": "code",
   "execution_count": 4,
   "metadata": {},
   "outputs": [],
   "source": [
    "random0 = np.random.rand(10, 10, 10).astype(float)\n",
    "random1 = np.random.rand(10, 10, 10).astype(float)\n",
    "\n",
    "np.save(\"random0.npy\", random0)\n",
    "np.save(\"random1.npy\", random1)"
   ]
  },
  {
   "cell_type": "code",
   "execution_count": 2,
   "metadata": {},
   "outputs": [],
   "source": [
    "input0 = np.array([[[ 1, 1, 1, 1, 1],\n",
    "                    [ 1, 1, 1, 1, 1],\n",
    "                    [ 1, 1, 1, 1, 1],\n",
    "                    [ 1, 4, 1, 5, 1],\n",
    "                    [ 1, 1, 1, 1, 1]],\n",
    "                   [[21,21,21,21,21],\n",
    "                    [21,22,21,23,21],\n",
    "                    [21,21,21,21,21],\n",
    "                    [21,24,21,25,21],\n",
    "                    [21,21,21,21,21]],\n",
    "                   [[11,11,11,11,11],\n",
    "                    [11,12,11,13,11],\n",
    "                    [11,11,11,11,11],\n",
    "                    [11,14,11,15,11],\n",
    "                    [11,11,11,11,11]]], dtype=float)\n",
    "\n",
    "input1 = np.array([[[11,11,11,11,11],\n",
    "                    [11,15,11,14,11],\n",
    "                    [11,11,11,11,11],\n",
    "                    [11,13,11,12,11],\n",
    "                    [11,11,11,11,11]],\n",
    "                   [[21,21,21,21,21],\n",
    "                    [21,25,21,24,21],\n",
    "                    [21,21,21,21,21],\n",
    "                    [21,23,21,22,21],\n",
    "                    [21,21,21,21,21]],\n",
    "                   [[ 1, 1, 1, 1, 1],\n",
    "                    [ 1, 5, 1, 4, 1],\n",
    "                    [ 1, 1, 1, 1, 1],\n",
    "                    [ 1, 1, 1, 1, 1],\n",
    "                    [ 1, 1, 1, 1, 1]]], dtype=float)\n",
    "\n",
    "np.save(\"input2.npy\", input0)\n",
    "np.save(\"input3.npy\", input1)"
   ]
  },
  {
   "cell_type": "code",
   "execution_count": 3,
   "metadata": {},
   "outputs": [],
   "source": [
    "input0 = np.array([[[ 0.1, 0.1, 0.1, 0.1, 0.1],\n",
    "                    [ 0.1, 0.1, 0.1, 0.1, 0.1],\n",
    "                    [ 0.1, 0.1, 0.1, 0.1, 0.1],\n",
    "                    [ 0.1, 0.4, 0.1, 0.5, 0.1],\n",
    "                    [ 0.1, 0.1, 0.1, 0.1, 0.1]],\n",
    "                   [[0.21,0.21,0.21,0.21,0.21],\n",
    "                    [0.21,0.22,0.21,0.23,0.21],\n",
    "                    [0.21,0.21,0.21,0.21,0.21],\n",
    "                    [0.21,0.24,0.21,0.25,0.21],\n",
    "                    [0.21,0.21,0.21,0.21,0.21]],\n",
    "                   [[0.11,0.11,0.11,0.11,0.11],\n",
    "                    [0.11,0.12,0.11,0.13,0.11],\n",
    "                    [0.11,0.11,0.11,0.11,0.11],\n",
    "                    [0.11,0.14,0.11,0.15,0.11],\n",
    "                    [0.11,0.11,0.11,0.11,0.11]]], dtype=float)\n",
    "\n",
    "input1 = np.array([[[0.11,0.11,0.11,0.11,0.11],\n",
    "                    [0.11,0.15,0.11,0.14,0.11],\n",
    "                    [0.11,0.11,0.11,0.11,0.11],\n",
    "                    [0.11,0.13,0.11,0.12,0.11],\n",
    "                    [0.11,0.11,0.11,0.11,0.11]],\n",
    "                   [[0.21,0.21,0.21,0.21,0.21],\n",
    "                    [0.21,0.25,0.21,0.24,0.21],\n",
    "                    [0.21,0.21,0.21,0.21,0.21],\n",
    "                    [0.21,0.23,0.21,0.22,0.21],\n",
    "                    [0.21,0.21,0.21,0.21,0.21]],\n",
    "                   [[ 0.1, 0.1, 0.1, 0.1, 0.1],\n",
    "                    [ 0.1, 0.5, 0.1, 0.4, 0.1],\n",
    "                    [ 0.1, 0.1, 0.1, 0.1, 0.1],\n",
    "                    [ 0.1, 0.1, 0.1, 0.1, 0.1],\n",
    "                    [ 0.1, 0.1, 0.1, 0.1, 0.1]]], dtype=float)\n",
    "\n",
    "np.save(\"input2.npy\", input0)\n",
    "np.save(\"input3.npy\", input1)"
   ]
  },
  {
   "cell_type": "code",
   "execution_count": 5,
   "metadata": {},
   "outputs": [],
   "source": [
    "input0_2D = np.array([[1,1,1,1,1],\n",
    "                      [1,2,1,2,1],\n",
    "                      [1,1,1,1,1],\n",
    "                      [1,2,1,2,1],\n",
    "                      [1,1,1,1,1]], dtype=float)\n",
    "\n",
    "input1_2D = np.array([[1,1,1,1,1],\n",
    "                      [1,2,2,2,1],\n",
    "                      [1,2,1,2,1],\n",
    "                      [1,2,2,2,1],\n",
    "                      [1,1,1,1,1]], dtype=float)\n",
    "\n",
    "np.save(\"input0_2D.npy\", input0_2D)\n",
    "np.save(\"input1_2D.npy\", input1_2D)"
   ]
  },
  {
   "cell_type": "code",
   "execution_count": null,
   "metadata": {},
   "outputs": [],
   "source": []
  }
 ],
 "metadata": {
  "kernelspec": {
   "display_name": "BettiMatching-3D",
   "language": "python",
   "name": "bettimatching-3d"
  },
  "language_info": {
   "codemirror_mode": {
    "name": "ipython",
    "version": 3
   },
   "file_extension": ".py",
   "mimetype": "text/x-python",
   "name": "python",
   "nbconvert_exporter": "python",
   "pygments_lexer": "ipython3",
   "version": "3.9.12"
  },
  "orig_nbformat": 4,
  "vscode": {
   "interpreter": {
    "hash": "31f2aee4e71d21fbe5cf8b01ff0e069b9275f58929596ceb00d14d90e3e16cd6"
   }
  }
 },
 "nbformat": 4,
 "nbformat_minor": 2
}
