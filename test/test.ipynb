{
 "cells": [
  {
   "cell_type": "code",
   "execution_count": 1,
   "metadata": {},
   "outputs": [],
   "source": [
    "import numpy as np\n",
    "import sys\n",
    "sys.path.append('../build')\n",
    "import betti_matching as bm\n",
    "\n",
    "%load_ext autoreload\n",
    "%autoreload 2"
   ]
  },
  {
   "cell_type": "code",
   "execution_count": 4,
   "metadata": {},
   "outputs": [],
   "source": [
    "input0 = np.array([[[ 1, 1, 1, 1, 1],\n",
    "                    [ 1, 1, 1, 1, 1],\n",
    "                    [ 1, 1, 1, 1, 1],\n",
    "                    [ 1, 4, 1, 5, 1],\n",
    "                    [ 1, 1, 1, 1, 1]],\n",
    "                   [[21,21,21,21,21],\n",
    "                    [21,22,21,23,21],\n",
    "                    [21,21,21,21,21],\n",
    "                    [21,24,21,25,21],\n",
    "                    [21,21,21,21,21]],\n",
    "                   [[11,11,11,11,11],\n",
    "                    [11,12,11,13,11],\n",
    "                    [11,11,11,11,11],\n",
    "                    [11,14,11,15,11],\n",
    "                    [11,11,11,11,11]]], dtype=float)\n",
    "\n",
    "input1 = np.array([[[11,11,11,11,11],\n",
    "                    [11,15,11,14,11],\n",
    "                    [11,11,11,11,11],\n",
    "                    [11,13,11,12,11],\n",
    "                    [11,11,11,11,11]],\n",
    "                   [[21,21,21,21,21],\n",
    "                    [21,25,21,24,21],\n",
    "                    [21,21,21,21,21],\n",
    "                    [21,23,21,22,21],\n",
    "                    [21,21,21,21,21]],\n",
    "                   [[ 1, 1, 1, 1, 1],\n",
    "                    [ 1, 5, 1, 4, 1],\n",
    "                    [ 1, 1, 1, 1, 1],\n",
    "                    [ 1, 1, 1, 1, 1],\n",
    "                    [ 1, 1, 1, 1, 1]]], dtype=float)"
   ]
  },
  {
   "cell_type": "code",
   "execution_count": 14,
   "metadata": {},
   "outputs": [],
   "source": [
    "input0 = np.array([[[0.01,0.01,0.01,0.01,0.01],\n",
    "                    [0.01,0.01,0.01,0.01,0.01],\n",
    "                    [0.01,0.01,0.01,0.01,0.01],\n",
    "                    [0.01,0.04,0.01,0.05,0.01],\n",
    "                    [0.01,0.01,0.01,0.01,0.01]],\n",
    "                   [[0.21,0.21,0.21,0.21,0.21],\n",
    "                    [0.21,0.22,0.21,0.21,0.21],\n",
    "                    [0.21,0.21,0.21,0.21,0.21],\n",
    "                    [0.21,0.24,0.21,0.25,0.21],\n",
    "                    [0.21,0.21,0.21,0.21,0.21]],\n",
    "                   [[0.11,0.11,0.11,0.11,0.11],\n",
    "                    [0.11,0.12,0.11,0.13,0.11],\n",
    "                    [0.11,0.11,0.11,0.11,0.11],\n",
    "                    [0.11,0.14,0.11,0.15,0.11],\n",
    "                    [0.11,0.11,0.11,0.11,0.11]]], dtype=float)\n",
    "\n",
    "input1 = np.array([[[0.11,0.11,0.11,0.11,0.11],\n",
    "                    [0.11,0.15,0.11,0.14,0.11],\n",
    "                    [0.11,0.11,0.11,0.11,0.11],\n",
    "                    [0.11,0.13,0.11,0.12,0.11],\n",
    "                    [0.11,0.11,0.11,0.11,0.11]],\n",
    "                   [[0.21,0.21,0.21,0.21,0.21],\n",
    "                    [0.21,0.25,0.21,0.24,0.21],\n",
    "                    [0.21,0.21,0.21,0.21,0.21],\n",
    "                    [0.21,0.23,0.21,0.21,0.21],\n",
    "                    [0.21,0.21,0.21,0.21,0.21]],\n",
    "                   [[0.01,0.01,0.01,0.01,0.01],\n",
    "                    [0.01,0.05,0.01,0.04,0.01],\n",
    "                    [0.01,0.01,0.01,0.01,0.01],\n",
    "                    [0.01,0.01,0.01,0.01,0.01],\n",
    "                    [0.01,0.01,0.01,0.01,0.01]]], dtype=float)"
   ]
  },
  {
   "cell_type": "code",
   "execution_count": 2,
   "metadata": {},
   "outputs": [],
   "source": [
    "random0 = np.random.rand(100, 100).astype(float)\n",
    "random1 = np.random.rand(100, 100).astype(float)"
   ]
  },
  {
   "cell_type": "code",
   "execution_count": 20,
   "metadata": {},
   "outputs": [],
   "source": [
    "input0_2D = np.array([[0,0,1,0,0],\n",
    "                      [0,2,1,3,0],\n",
    "                      [0,0,1,0,0],\n",
    "                      [0,4,1,5,0],\n",
    "                      [0,0,1,0,0]], dtype=float)\n",
    "\n",
    "input1_2D = np.array([[0,0,1,0,0],\n",
    "                      [0,5,1,4,0],\n",
    "                      [0,0,1,0,0],\n",
    "                      [0,3,1,2,0],\n",
    "                      [0,0,1,0,0]], dtype=float)"
   ]
  },
  {
   "cell_type": "code",
   "execution_count": 22,
   "metadata": {},
   "outputs": [],
   "source": [
    "input0_1D = np.array([0,0,1,0,0,2,0,5,0], dtype=float)\n",
    "input1_1D = np.array([0,0,1,0,0,3,1,4,0], dtype=float)"
   ]
  },
  {
   "cell_type": "code",
   "execution_count": 23,
   "metadata": {},
   "outputs": [],
   "source": [
    "input0_3D = np.array([[[[ 1, 1, 1, 1, 1],\n",
    "                        [ 1, 1, 1, 1, 1],\n",
    "                        [ 1, 1, 1, 1, 1],\n",
    "                        [ 1, 4, 1, 5, 1],\n",
    "                        [ 1, 1, 1, 1, 1]],\n",
    "                       [[21,21,21,21,21],\n",
    "                        [21,22,21,23,21],\n",
    "                        [21,21,21,21,21],\n",
    "                        [21,24,21,25,21],\n",
    "                        [21,21,21,21,21]],\n",
    "                       [[11,11,11,11,11],\n",
    "                        [11,12,11,13,11],\n",
    "                        [11,11,11,11,11],\n",
    "                        [11,14,11,15,11],\n",
    "                        [11,11,11,11,11]]]], dtype=float)\n",
    "\n",
    "input1_3D = np.array([[[[11,11,11,11,11],\n",
    "                        [11,15,11,14,11],\n",
    "                        [11,11,11,11,11],\n",
    "                        [11,13,11,12,11],\n",
    "                        [11,11,11,11,11]],\n",
    "                       [[21,21,21,21,21],\n",
    "                        [21,25,21,24,21],\n",
    "                        [21,21,21,21,21],\n",
    "                        [21,23,21,22,21],\n",
    "                        [21,21,21,21,21]],\n",
    "                       [[ 1, 1, 1, 1, 1],\n",
    "                        [ 1, 5, 1, 4, 1],\n",
    "                        [ 1, 1, 1, 1, 1],\n",
    "                        [ 1, 1, 1, 1, 1],\n",
    "                        [ 1, 1, 1, 1, 1]]]], dtype=float)"
   ]
  },
  {
   "cell_type": "code",
   "execution_count": 2,
   "metadata": {},
   "outputs": [],
   "source": [
    "random0_3D = np.random.rand(50, 50, 50).astype(float)\n",
    "random1_3D = np.random.rand(50, 50, 50).astype(float)"
   ]
  },
  {
   "cell_type": "code",
   "execution_count": 3,
   "metadata": {},
   "outputs": [
    {
     "name": "stdout",
     "output_type": "stream",
     "text": [
      "dimension 2:\n",
      "input & image 0: enumeration 81 ms with 157053 columns to reduce and 203097 apparent pairs, barcodes 45 ms\n",
      "input & image 1: enumeration 81 ms with 157084 columns to reduce and 203066 apparent pairs, barcodes 47 ms\n",
      "comparison & matching: enumeration 81 ms with 156996 columns to reduce and 203154 apparent pairs, barcode and matching 43 ms\n",
      "total: 421 ms\n",
      "\n",
      "dimension 1:\n",
      "input 0: barcode 1168 ms with 0 emergent pairs, enumeration 106 ms\n",
      "input 1: barcode 1188 ms with 0 emergent pairs, enumeration 101 ms\n",
      "comparison: barcode 42 ms with 35273 emergent pairs, enumeration 96 ms\n",
      "image 0: barcode 49 ms with 36407 emergent pairs\n",
      "image 1: barcode 43 ms with 36332 emergent pairs\n",
      "matching: 0 ms\n",
      "total: 2816 ms\n",
      "\n",
      "dimension 0:\n",
      "input 0: barcode 81 ms\n",
      "input 1: barcode 82 ms\n",
      "comparison & image 0 & image 1 & matching: barcodes & matching 95 ms\n",
      "total: 268 ms\n",
      "\n",
      "computing voxels ... 157 ms\n",
      "\n"
     ]
    }
   ],
   "source": [
    "input0 = random0_3D\n",
    "input1 = random1_3D\n",
    "\n",
    "config = bm.Config()\n",
    "comparison = np.minimum(input0, input1)\n",
    "results = bm.compute_matching_with_voxels(input0, input1, comparison, config)"
   ]
  },
  {
   "cell_type": "code",
   "execution_count": null,
   "metadata": {},
   "outputs": [],
   "source": []
  }
 ],
 "metadata": {
  "kernelspec": {
   "display_name": "env",
   "language": "python",
   "name": "python3"
  },
  "language_info": {
   "codemirror_mode": {
    "name": "ipython",
    "version": 3
   },
   "file_extension": ".py",
   "mimetype": "text/x-python",
   "name": "python",
   "nbconvert_exporter": "python",
   "pygments_lexer": "ipython3",
   "version": "3.11.5"
  },
  "orig_nbformat": 4
 },
 "nbformat": 4,
 "nbformat_minor": 2
}
